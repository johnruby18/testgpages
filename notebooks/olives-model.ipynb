{
 "cells": [
  {
   "cell_type": "code",
   "execution_count": 1,
   "metadata": {
    "collapsed": true
   },
   "outputs": [],
   "source": [
    "# import packages\n",
    "import numpy as np\n",
    "import pandas as pd\n",
    "import matplotlib\n",
    "import matplotlib.pyplot as plt\n",
    "from sklearn.linear_model import LogisticRegressionCV\n",
    "from sklearn.neighbors import KNeighborsClassifier\n",
    "from sklearn.model_selection import cross_val_score\n",
    "from sklearn.metrics import accuracy_score\n",
    "from sklearn.metrics import confusion_matrix\n",
    "from sklearn.linear_model import LogisticRegression\n",
    "from sklearn.linear_model import LogisticRegressionCV\n",
    "from sklearn.discriminant_analysis import LinearDiscriminantAnalysis\n",
    "from sklearn.discriminant_analysis import QuadraticDiscriminantAnalysis\n",
    "from sklearn.metrics import roc_curve, auc\n",
    "from sklearn import svm\n",
    "from sklearn.ensemble import RandomForestRegressor\n",
    "from itertools import product\n",
    "from collections import OrderedDict\n",
    "from sklearn import svm\n",
    "%matplotlib inline"
   ]
  },
  {
   "cell_type": "markdown",
   "metadata": {},
   "source": [
    "# Data Preprocessing"
   ]
  },
  {
   "cell_type": "code",
   "execution_count": 2,
   "metadata": {
    "collapsed": true
   },
   "outputs": [],
   "source": [
    "# load data. See bottom of this Notebook for the scraping code that generated this.\n",
    "spotify = pd.read_csv('cs109a_final_data_Milestone3.csv')\n",
    "spotify = spotify.drop(spotify.index[271]) # This is NaN\n",
    "spotify = spotify.set_index(np.arange(0,len(spotify), 1))\n",
    "spotify['followers'] = np.log(spotify['followers']+1)"
   ]
  },
  {
   "cell_type": "code",
   "execution_count": 3,
   "metadata": {
    "collapsed": true
   },
   "outputs": [],
   "source": [
    "# normalize variables\n",
    "normalize = spotify.drop({'Unnamed: 0', 'id', 'name', 'followers', 'collab', 'user', 'genre1', 'genre2', 'genre3'}, 1).columns\n",
    "for var in normalize:\n",
    "    spotify[var] = (spotify[var]-spotify[var].min())/(spotify[var].max()-spotify[var].min())"
   ]
  },
  {
   "cell_type": "code",
   "execution_count": 4,
   "metadata": {
    "collapsed": true
   },
   "outputs": [],
   "source": [
    "# group spotify's 500 genre codes into a handful of genres\n",
    "genres = ['rock', 'jazz', 'pop', 'rap', 'indie', 'country', 'house', 'tropical', 'christmas', 'soul', 'folk', 'classical']\n",
    "for genre in genres:\n",
    "    spotify[genre] = np.zeros(len(spotify))\n",
    "for genre in genres:\n",
    "    genreflag = np.zeros(len(spotify))\n",
    "    for i in range(len(spotify)):\n",
    "        if (genre in spotify['genre1'][i]) or (genre in spotify['genre2'][i]) or (genre in spotify['genre3'][i]):\n",
    "            genreflag[i] = 1\n",
    "    spotify[genre] = spotify[genre] + genreflag"
   ]
  },
  {
   "cell_type": "code",
   "execution_count": 5,
   "metadata": {
    "collapsed": true
   },
   "outputs": [],
   "source": [
    "# engineer genre based interactions\n",
    "spotify['rocklive'] = spotify['rock']*spotify['mean_liveness']\n",
    "spotify['rockloud'] = spotify['rock']*spotify['mean_loudness']\n",
    "spotify['poptempo'] = spotify['pop']*spotify['mean_tempo']\n",
    "spotify['jazztempo'] = spotify['jazz']*spotify['std_tempo']\n",
    "spotify['rapvulgar'] = spotify['rap']*spotify['total_explicit']\n",
    "spotify['classicalinstru'] = spotify['classical']*spotify['mean_instrumentalness']\n",
    "spotify['popenergy'] = spotify['pop']*spotify['mean_energy']"
   ]
  },
  {
   "cell_type": "code",
   "execution_count": 6,
   "metadata": {
    "collapsed": true
   },
   "outputs": [],
   "source": [
    "# classify bottom 25% of playlists by followers \"failed playlists\"\n",
    "cutoff = np.percentile(spotify['followers'], 25)\n",
    "spotify['class'] = np.zeros(len(spotify))\n",
    "for i in range(len(spotify)):\n",
    "    if spotify['followers'][i] > cutoff:\n",
    "        spotify.loc[i,'class'] = 1"
   ]
  },
  {
   "cell_type": "code",
   "execution_count": 7,
   "metadata": {
    "collapsed": true
   },
   "outputs": [],
   "source": [
    "# test/train split\n",
    "np.random.seed(9001)\n",
    "msk = np.random.rand(len(spotify)) < 0.5\n",
    "data_train = spotify[msk]\n",
    "data_test = spotify[~msk]\n",
    "data_train = data_train.set_index(np.arange(0,len(data_train), 1))\n",
    "data_test = data_test.set_index(np.arange(0, len(data_test), 1))"
   ]
  },
  {
   "cell_type": "code",
   "execution_count": 8,
   "metadata": {
    "collapsed": true
   },
   "outputs": [],
   "source": [
    "# X/Y final features\n",
    "X_train = data_train.drop({'Unnamed: 0', 'id', 'name', 'followers', 'collab', 'user', 'genre1', 'genre2', 'genre3', 'class'}, 1)\n",
    "Y_train = data_train['class']\n",
    "X_test = data_test.drop({'Unnamed: 0', 'id', 'name', 'followers', 'collab', 'user', 'genre1', 'genre2', 'genre3', 'class'}, 1)\n",
    "Y_test = data_test['class']"
   ]
  },
  {
   "cell_type": "markdown",
   "metadata": {},
   "source": [
    "# Baseline Model\n",
    "\n",
    "unregularized logistic regression with only 1 feature, max_popularity"
   ]
  },
  {
   "cell_type": "code",
   "execution_count": 9,
   "metadata": {},
   "outputs": [
    {
     "data": {
      "text/plain": [
       "0.75510204081632648"
      ]
     },
     "execution_count": 9,
     "metadata": {},
     "output_type": "execute_result"
    }
   ],
   "source": [
    "logitreg = LogisticRegression(C = 1000000).fit(X_train[\"max_popularity\"].values.reshape(-1,1),Y_train)\n",
    "accuracy_score(logitreg.predict(X_test[\"max_popularity\"].values.reshape(-1,1)), Y_test)"
   ]
  },
  {
   "cell_type": "markdown",
   "metadata": {},
   "source": [
    "This baseline model seems pretty uninformative, given we can achive about 75% accuracy by just predicting all 1's for our response."
   ]
  },
  {
   "cell_type": "code",
   "execution_count": 10,
   "metadata": {},
   "outputs": [
    {
     "data": {
      "text/plain": [
       "0.58025947929407651"
      ]
     },
     "execution_count": 10,
     "metadata": {},
     "output_type": "execute_result"
    }
   ],
   "source": [
    "fpr, tpr, thresholds=roc_curve(Y_test, logitreg.predict_proba(X_test[\"max_popularity\"].values.reshape(-1,1))[:,1])\n",
    "roc_auc = auc(fpr, tpr)\n",
    "roc_auc"
   ]
  },
  {
   "cell_type": "markdown",
   "metadata": {},
   "source": [
    "Unsuprisingly, the AUC is also fairly poor for the baseline model, at 58%."
   ]
  },
  {
   "cell_type": "markdown",
   "metadata": {},
   "source": [
    "# L1 Regularized Logistic Regression\n",
    "\n",
    "Given the size of our feature spase, we decided to use L1 regularization for the added benefit of feature selection. We also note that this performs slightly better than L2 regularization."
   ]
  },
  {
   "cell_type": "code",
   "execution_count": 11,
   "metadata": {},
   "outputs": [],
   "source": [
    "Cs = [1, 10, 100, 1000, 10000]\n",
    "Cscores = []\n",
    "for c in Cs:\n",
    "    logitreg = LogisticRegression(C = c, penalty=\"l1\")\n",
    "    Cscores.append(np.mean(cross_val_score(logitreg, X_train, Y_train, cv=5, scoring='accuracy')))"
   ]
  },
  {
   "cell_type": "code",
   "execution_count": 12,
   "metadata": {},
   "outputs": [
    {
     "name": "stdout",
     "output_type": "stream",
     "text": [
      "1\n",
      "0.795273801409\n"
     ]
    }
   ],
   "source": [
    "bestC = Cs[np.argmax(Cscores)]\n",
    "print(bestC)\n",
    "print(np.max(Cscores))"
   ]
  },
  {
   "cell_type": "code",
   "execution_count": 13,
   "metadata": {},
   "outputs": [
    {
     "data": {
      "text/plain": [
       "0.80612244897959184"
      ]
     },
     "execution_count": 13,
     "metadata": {},
     "output_type": "execute_result"
    }
   ],
   "source": [
    "logitreg = LogisticRegression(C = bestC, penalty=\"l1\").fit(X_train,Y_train)\n",
    "accuracy_score(logitreg.predict(X_test), Y_test)"
   ]
  },
  {
   "cell_type": "code",
   "execution_count": 14,
   "metadata": {},
   "outputs": [
    {
     "data": {
      "text/plain": [
       "0.85058535733007168"
      ]
     },
     "execution_count": 14,
     "metadata": {},
     "output_type": "execute_result"
    }
   ],
   "source": [
    "fpr, tpr, thresholds=roc_curve(Y_test, logitreg.predict_proba(X_test)[:,1])\n",
    "roc_auc = auc(fpr, tpr)\n",
    "roc_auc"
   ]
  },
  {
   "cell_type": "code",
   "execution_count": 15,
   "metadata": {},
   "outputs": [
    {
     "data": {
      "image/png": "[encoded data removed]",
      "text/plain": [
       "<matplotlib.figure.Figure at 0x114d56f28>"
      ]
     },
     "metadata": {},
     "output_type": "display_data"
    }
   ],
   "source": [
    "objects = X_train.columns\n",
    "coeff = logitreg.coef_[0]\n",
    "objects = objects[coeff!=0]\n",
    "coeff = coeff[coeff!=0]\n",
    "objects = objects[np.argsort(np.abs(coeff))]\n",
    "coeff = coeff[np.argsort(np.abs(coeff))]\n",
    " \n",
    "y_pos = np.arange(len(objects))\n",
    "plt.bar(y_pos, coeff, align='center', alpha=0.5)\n",
    "plt.xticks(y_pos, objects, rotation='vertical')\n",
    "plt.show()"
   ]
  },
  {
   "cell_type": "code",
   "execution_count": 16,
   "metadata": {},
   "outputs": [
    {
     "name": "stdout",
     "output_type": "stream",
     "text": [
      "Index(['mean_time', 'std_time', 'total_explicit', 'max_popularity',\n",
      "       'mean_artists_count', 'mean_acousticness', 'std_acousticness',\n",
      "       'std_danceability', 'std_energy', 'mean_instrumentalness',\n",
      "       'mean_liveness', 'mean_loudness', 'std_loudness', 'std_speechiness',\n",
      "       'mean_tempo', 'std_tempo', 'std_valence', 'mean_artistfollowers',\n",
      "       'house', 'rocklive', 'rockloud', 'poptempo', 'jazztempo', 'rapvulgar',\n",
      "       'classicalinstru', 'popenergy'],\n",
      "      dtype='object')\n"
     ]
    }
   ],
   "source": [
    "# features not powerful enough to be introduced given l1 regularization\n",
    "print(X_train.columns[logitreg.coef_[0]==0])"
   ]
  },
  {
   "cell_type": "code",
   "execution_count": 17,
   "metadata": {},
   "outputs": [
    {
     "data": {
      "text/plain": [
       "0.5"
      ]
     },
     "execution_count": 17,
     "metadata": {},
     "output_type": "execute_result"
    }
   ],
   "source": [
    "# fraction of feature space eliminated via regularization\n",
    "sum(logitreg.coef_[0]==0)/len(logitreg.coef_[0])"
   ]
  },
  {
   "cell_type": "markdown",
   "metadata": {},
   "source": [
    "By utilizing regularization and cross validation, we eliminate about half our features as not influential enough to be introduced into the model, and improve our accuracy score by about 4.5%. We also improve the AUC from 58% to 85%, which is a substantial gain."
   ]
  },
  {
   "cell_type": "markdown",
   "metadata": {},
   "source": [
    "# LDA"
   ]
  },
  {
   "cell_type": "code",
   "execution_count": 18,
   "metadata": {
    "collapsed": true
   },
   "outputs": [],
   "source": [
    "lda = LinearDiscriminantAnalysis().fit(X_train, Y_train)"
   ]
  },
  {
   "cell_type": "code",
   "execution_count": 19,
   "metadata": {},
   "outputs": [
    {
     "name": "stdout",
     "output_type": "stream",
     "text": [
      "0.770684706847\n",
      "0.799744897959\n"
     ]
    }
   ],
   "source": [
    "print(np.mean(cross_val_score(LinearDiscriminantAnalysis(), X_train, Y_train)))\n",
    "print(LinearDiscriminantAnalysis().fit(X_train,Y_train).score(X_test, Y_test))"
   ]
  },
  {
   "cell_type": "markdown",
   "metadata": {},
   "source": [
    "Compared to our initial Regularized Logistic Regression model, LDA fails to perform better through cross validation, leading us to believe it is a worse model. We also see it performs slightly worse on our test set."
   ]
  },
  {
   "cell_type": "markdown",
   "metadata": {},
   "source": [
    "# Random Forest"
   ]
  },
  {
   "cell_type": "code",
   "execution_count": 20,
   "metadata": {},
   "outputs": [
    {
     "data": {
      "text/plain": [
       "odict_values([[100, 200, 400, 600, 800, 1000], [0.01, 0.2, 0.3, 0.4, 0.5, 0.6, 0.8]])"
      ]
     },
     "execution_count": 20,
     "metadata": {},
     "output_type": "execute_result"
    }
   ],
   "source": [
    "# Possible hyper params for Cross Validation\n",
    "param_dict = OrderedDict(\n",
    "    n_estimators = [100, 200, 400, 600, 800, 1000],\n",
    "    max_features = [0.01, 0.2, 0.3, 0.4, 0.5, 0.6, 0.8]\n",
    ")\n",
    "\n",
    "param_dict.values()"
   ]
  },
  {
   "cell_type": "code",
   "execution_count": 21,
   "metadata": {},
   "outputs": [
    {
     "data": {
      "text/plain": [
       "(800, 0.8)"
      ]
     },
     "execution_count": 21,
     "metadata": {},
     "output_type": "execute_result"
    }
   ],
   "source": [
    "# cross validate\n",
    "results = {}\n",
    "estimators= {}\n",
    "for n, f in product(*param_dict.values()):\n",
    "    params = (n, f)\n",
    "    est = RandomForestRegressor(oob_score=True, \n",
    "                                n_estimators=n, max_features=f, n_jobs=-1)\n",
    "    est.fit(X_train, Y_train)\n",
    "    results[params] = est.oob_score_\n",
    "    estimators[params] = est\n",
    "outparams = max(results, key = results.get)\n",
    "outparams"
   ]
  },
  {
   "cell_type": "code",
   "execution_count": 22,
   "metadata": {
    "collapsed": true
   },
   "outputs": [],
   "source": [
    "rf1 = estimators[outparams]"
   ]
  },
  {
   "cell_type": "code",
   "execution_count": 23,
   "metadata": {},
   "outputs": [
    {
     "data": {
      "text/plain": [
       "0.8303571428571429"
      ]
     },
     "execution_count": 23,
     "metadata": {},
     "output_type": "execute_result"
    }
   ],
   "source": [
    "predsp = rf1.predict(X_test)\n",
    "preds = np.array([1 if x >0.5 else 0 for x in  rf1.predict(X_test)])\n",
    "sum(preds == Y_test)/len(Y_test)"
   ]
  },
  {
   "cell_type": "code",
   "execution_count": 24,
   "metadata": {},
   "outputs": [
    {
     "data": {
      "image/png": "[encoded data removed]",
      "text/plain": [
       "<matplotlib.figure.Figure at 0x114d8c978>"
      ]
     },
     "metadata": {},
     "output_type": "display_data"
    }
   ],
   "source": [
    "plt.figure(figsize=(22,10))\n",
    "pd.Series(rf1.feature_importances_, index=X_train.columns).sort_values().plot(kind=\"barh\")\n",
    "plt.show()"
   ]
  },
  {
   "cell_type": "markdown",
   "metadata": {},
   "source": [
    "Fitting a random forest pushes our best performance to 83% accuracy on the test set, a 3% gain above the accuracy of our regularized logistic regression's accuracy of 80%. We also notice that though somewhat different from our feature selection via l1 regularization, a portion of our feature space is of low importance.\n",
    "\n",
    "The most influential features are somewhat similar to those that exhibit high influence on our logistic regression model. The least infleuntial features seem to be interchangably genre features or genre/audio_feature interactions."
   ]
  },
  {
   "cell_type": "markdown",
   "metadata": {},
   "source": [
    "# Support Vector Machines"
   ]
  },
  {
   "cell_type": "code",
   "execution_count": 25,
   "metadata": {
    "collapsed": true
   },
   "outputs": [],
   "source": [
    "Cs = [1, 10, 50, 100, 200, 500, 750, 1000]\n",
    "cscoreL = []\n",
    "cscoreP = []\n",
    "cscoreRBF = []\n",
    "for c in Cs:\n",
    "    modelL = svm.SVC(C=c, kernel='linear')\n",
    "    cscoreL.append(np.mean(cross_val_score(modelL, X_train, Y_train)))\n",
    "    modelP = svm.SVC(C=c, kernel='poly')\n",
    "    cscoreP.append(np.mean(cross_val_score(modelP, X_train, Y_train)))\n",
    "    modelRBF = svm.SVC(C=c, kernel='rbf')\n",
    "    cscoreRBF.append(np.mean(cross_val_score(modelRBF, X_train, Y_train)))"
   ]
  },
  {
   "cell_type": "code",
   "execution_count": 26,
   "metadata": {},
   "outputs": [
    {
     "name": "stdout",
     "output_type": "stream",
     "text": [
      "best kernel:poly\n",
      "best PolyC:200\n",
      "best CV score:0.78176392875\n"
     ]
    }
   ],
   "source": [
    "bestkernel = [\"linear\",\"poly\",'rbf'][np.argmax([np.max(cscoreL),np.max(cscoreP),np.max(cscoreRBF)])]\n",
    "bestPolyC = Cs[np.argmax(cscoreP)]\n",
    "print(\"best kernel:\" + str(bestkernel))\n",
    "print(\"best PolyC:\" + str(bestPolyC))\n",
    "print(\"best CV score:\"+ str(np.max(cscoreP)))"
   ]
  },
  {
   "cell_type": "code",
   "execution_count": 27,
   "metadata": {},
   "outputs": [
    {
     "data": {
      "text/plain": [
       "0.78188775510204078"
      ]
     },
     "execution_count": 27,
     "metadata": {},
     "output_type": "execute_result"
    }
   ],
   "source": [
    "modelP = svm.SVC(C=bestPolyC, kernel=bestkernel)\n",
    "modelP.fit(X_train, Y_train)\n",
    "modelP.score(X_test,Y_test)"
   ]
  },
  {
   "cell_type": "markdown",
   "metadata": {},
   "source": [
    "SVMs seem to have performance akin to LDA, which is worse than our Logistic Regression and Random Forest models."
   ]
  },
  {
   "cell_type": "markdown",
   "metadata": {},
   "source": [
    "# KNN - K Nearest Neighbor"
   ]
  },
  {
   "cell_type": "code",
   "execution_count": 28,
   "metadata": {},
   "outputs": [
    {
     "name": "stdout",
     "output_type": "stream",
     "text": [
      "17\n",
      "0.77926986291\n"
     ]
    }
   ],
   "source": [
    "# cross validate for choice of K\n",
    "allks = np.arange(1, ((len(X_train)*4)//5), 1)\n",
    "CVScores = []\n",
    "for k in allks:\n",
    "    # for all possibe Ks, we fit a model with k neighbors and calculate the cross-validation score\n",
    "    knnclass = KNeighborsClassifier(n_neighbors = k)\n",
    "    CVScores.append(np.mean(cross_val_score(knnclass, X_train, Y_train, cv=5, scoring='accuracy')))\n",
    "# we then look at the best model, which has the maximum cross-validation score\n",
    "bestk = allks[CVScores.index(max(CVScores))]\n",
    "print(bestk)\n",
    "print(max(CVScores))"
   ]
  },
  {
   "cell_type": "code",
   "execution_count": 29,
   "metadata": {},
   "outputs": [
    {
     "data": {
      "text/plain": [
       "0.74234693877551017"
      ]
     },
     "execution_count": 29,
     "metadata": {},
     "output_type": "execute_result"
    }
   ],
   "source": [
    "knnclass = KNeighborsClassifier(n_neighbors = bestk).fit(X_train,Y_train)\n",
    "accuracy_score(knnclass.predict(X_test),Y_test)"
   ]
  },
  {
   "cell_type": "markdown",
   "metadata": {},
   "source": [
    "This is rather dissapointing performance, given we could do better by predicting all 1's (since our binary response by construction is 25% 0's and 75% 1's). This poor performance is likely attributatble to the neighbors being matched along uninformative dimensions. Let's try to improve this by utilizing some of the feature importance scores from our Random Forest model."
   ]
  },
  {
   "cell_type": "code",
   "execution_count": 30,
   "metadata": {},
   "outputs": [
    {
     "name": "stdout",
     "output_type": "stream",
     "text": [
      "The best (n, k) pair is(9, 30)\n",
      "With a CV score of0.822419147164\n"
     ]
    }
   ],
   "source": [
    "# cross validate for choice of K\n",
    "allks = np.arange(1, ((len(X_train)*4)//5), 1)\n",
    "allks = allks[0:30]\n",
    "params = []\n",
    "CVScores = []\n",
    "\n",
    "for n in range(1,10):\n",
    "    # pluck off top n important features from Random Forest\n",
    "    rf_mostimport = pd.Series(rf1.feature_importances_, index=X_train.columns).sort_values(ascending=False)\n",
    "    rf_mostimport = list(rf_mostimport.head(n).items())\n",
    "    rf_mostimport = zip(*rf_mostimport)\n",
    "    rf_mostimport = list(list(rf_mostimport)[0])\n",
    "    for k in allks:\n",
    "        # for all possibe Ks, we fit a model with k neighbors and calculate the cross-validation score\n",
    "        knnclass = KNeighborsClassifier(n_neighbors = k)\n",
    "        CVScores.append(np.mean(cross_val_score(knnclass, X_train[rf_mostimport], Y_train, cv=5, scoring='accuracy')))\n",
    "        params.append((n, k))\n",
    "# we then look at the best model, which has the maximum cross-validation score\n",
    "bestparams = params[CVScores.index(max(CVScores))]\n",
    "print(\"The best (n, k) pair is\" + str(bestparams))\n",
    "print(\"With a CV score of\" + str(max(CVScores)))"
   ]
  },
  {
   "cell_type": "code",
   "execution_count": 31,
   "metadata": {},
   "outputs": [
    {
     "data": {
      "text/plain": [
       "0.81377551020408168"
      ]
     },
     "execution_count": 31,
     "metadata": {},
     "output_type": "execute_result"
    }
   ],
   "source": [
    "bestn = bestparams[0]\n",
    "bestk = bestparams[1]\n",
    "\n",
    "# pluck off top n important features from Random Forest\n",
    "rf_mostimport = pd.Series(rf1.feature_importances_, index=X_train.columns).sort_values(ascending=False)\n",
    "rf_mostimport = list(rf_mostimport.head(bestn).items())\n",
    "rf_mostimport = zip(*rf_mostimport)\n",
    "rf_mostimport = list(list(rf_mostimport)[0])\n",
    "                     \n",
    "knnclass = KNeighborsClassifier(n_neighbors = bestk).fit(X_train[rf_mostimport],Y_train)\n",
    "accuracy_score(knnclass.predict(X_test[rf_mostimport]),Y_test)"
   ]
  },
  {
   "cell_type": "markdown",
   "metadata": {},
   "source": [
    "We see we are able to improve the performance of the KNN model from 0.74 fit across our entire feature space to 0.81 fit over a more influential subspace. This makes sense given the underlying KNN algorithm, where datapoints can be near neighbors along useless dimensions, squashing out the influence of thier proximity to points along useful dimensions."
   ]
  },
  {
   "cell_type": "markdown",
   "metadata": {},
   "source": [
    "# Stacked Models\n",
    "In an attempt to squeeze additional predictive power out of our models, we stacked them into a Random Forest meta model, and then evaluated its performance on a left-out fraction of the test data."
   ]
  },
  {
   "cell_type": "code",
   "execution_count": 32,
   "metadata": {
    "collapsed": true
   },
   "outputs": [],
   "source": [
    "from sklearn.model_selection import KFold"
   ]
  },
  {
   "cell_type": "code",
   "execution_count": 33,
   "metadata": {},
   "outputs": [],
   "source": [
    "modelsprob = [lda, logitreg, knnclass]\n",
    "models = [rf1, modelP]\n",
    "kf = KFold(n_splits = 10)\n",
    "metaclass = pd.DataFrame()\n",
    "for model in models:\n",
    "    metaclass[model] = np.zeros(len(X_train))\n",
    "    for train_index, test_index in kf.split(X_train):\n",
    "        y_train, y_test = Y_train[train_index], Y_train[test_index]\n",
    "        x_train, x_test = X_train.iloc[train_index,:], X_train.iloc[test_index,:]\n",
    "        model.fit(x_train, y_train)\n",
    "        metaclass[model][test_index] = model.predict(x_test)\n",
    "for model in modelsprob:\n",
    "    metaclass[model] = np.zeros(len(X_train))\n",
    "    for train_index, test_index in kf.split(X_train):\n",
    "        y_train, y_test = Y_train[train_index], Y_train[test_index]\n",
    "        x_train, x_test = X_train.iloc[train_index,:], X_train.iloc[test_index,:]\n",
    "        model.fit(x_train, y_train)\n",
    "        metaclass[model][test_index] = list(zip(*model.predict_proba(x_test)))[1]"
   ]
  },
  {
   "cell_type": "code",
   "execution_count": 34,
   "metadata": {
    "collapsed": true
   },
   "outputs": [],
   "source": [
    "metaclass_test = pd.DataFrame()\n",
    "for model in models:\n",
    "    model.fit(X_train, Y_train)\n",
    "    metaclass_test[model] = model.predict(X_test)\n",
    "for model in modelsprob:\n",
    "    model.fit(X_train, Y_train)\n",
    "    metaclass_test[model] = list(zip(*model.predict_proba(X_test)))[1]"
   ]
  },
  {
   "cell_type": "code",
   "execution_count": 35,
   "metadata": {},
   "outputs": [],
   "source": [
    "metaclass.columns = ['Random Forest', 'SVM Poly', 'LDA', 'Logistic', 'KNN']"
   ]
  },
  {
   "cell_type": "code",
   "execution_count": 36,
   "metadata": {},
   "outputs": [
    {
     "data": {
      "text/plain": [
       "odict_values([[100, 200, 400, 600, 800, 1000], [0.01, 0.2, 0.3, 0.4, 0.5, 0.6, 0.8]])"
      ]
     },
     "execution_count": 36,
     "metadata": {},
     "output_type": "execute_result"
    }
   ],
   "source": [
    "# Possible hyper params for Cross Validation\n",
    "param_dict = OrderedDict(\n",
    "    n_estimators = [100, 200, 400, 600, 800, 1000],\n",
    "    max_features = [0.01, 0.2, 0.3, 0.4, 0.5, 0.6, 0.8]\n",
    ")\n",
    "\n",
    "param_dict.values()"
   ]
  },
  {
   "cell_type": "code",
   "execution_count": 37,
   "metadata": {},
   "outputs": [
    {
     "data": {
      "text/plain": [
       "(800, 0.01)"
      ]
     },
     "execution_count": 37,
     "metadata": {},
     "output_type": "execute_result"
    }
   ],
   "source": [
    "# cross validate\n",
    "results = {}\n",
    "estimators= {}\n",
    "for n, f in product(*param_dict.values()):\n",
    "    params = (n, f)\n",
    "    est = RandomForestRegressor(oob_score=True, \n",
    "                                n_estimators=n, max_features=f, n_jobs=-1)\n",
    "    est.fit(metaclass, Y_train)\n",
    "    results[params] = est.oob_score_\n",
    "    estimators[params] = est\n",
    "outparams = max(results, key = results.get)\n",
    "outparams"
   ]
  },
  {
   "cell_type": "code",
   "execution_count": 38,
   "metadata": {},
   "outputs": [
    {
     "data": {
      "text/plain": [
       "0.80739795918367352"
      ]
     },
     "execution_count": 38,
     "metadata": {},
     "output_type": "execute_result"
    }
   ],
   "source": [
    "rf2 = estimators[outparams]\n",
    "predsp = rf2.predict(metaclass_test)\n",
    "preds = np.array([1 if x >0.5 else 0 for x in predsp])\n",
    "sum(preds == Y_test)/len(Y_test)"
   ]
  },
  {
   "cell_type": "markdown",
   "metadata": {},
   "source": [
    "We see that our stacked model is comparable to the test performance of our best component model to the stack, but it was worth a shot. Analyzing the importance of the of the compoenent models shows that our best models of RF and Logit are most infleuntial, but in the ensemble that LDA actually has something more to add relative to solo performance."
   ]
  },
  {
   "cell_type": "code",
   "execution_count": 39,
   "metadata": {},
   "outputs": [
    {
     "data": {
      "image/png": "[encoded data removed]",
      "text/plain": [
       "<matplotlib.figure.Figure at 0x114bab2e8>"
      ]
     },
     "metadata": {},
     "output_type": "display_data"
    }
   ],
   "source": [
    "plt.figure(figsize=(20,10))\n",
    "pd.Series(rf2.feature_importances_, index=metaclass.columns).sort_values().plot(kind=\"barh\")\n",
    "plt.tick_params(axis='both', which='major', labelsize=25)\n",
    "plt.show()"
   ]
  },
  {
   "cell_type": "markdown",
   "metadata": {},
   "source": [
    "# Scraper Code\n",
    "\n",
    "This is the code we used to scape the data from the API. We wrapped it in a function to prevent it executing. Given that some API requests are rejected, we ran it over several times, replacing useridpairs with the failedpairs to avoid making redundant requests."
   ]
  },
  {
   "cell_type": "code",
   "execution_count": 40,
   "metadata": {
    "collapsed": true
   },
   "outputs": [],
   "source": [
    "import spotipy\n",
    "from spotipy import util\n",
    "import pandas as pd\n",
    "import numpy as np\n",
    "import ssl\n",
    "import OpenSSL\n",
    "from collections import Counter"
   ]
  },
  {
   "cell_type": "code",
   "execution_count": 41,
   "metadata": {
    "collapsed": true
   },
   "outputs": [],
   "source": [
    "# This takes all night to run. I advise against executing it.\n",
    "def scraper():\n",
    "    token = util.prompt_for_user_token(\"spects4@gmail.com\",   #username,\n",
    "                           \"playlist-read-private\",#scope,\n",
    "                           client_id='b9e26d8ba491478fb328b53dc7390b0d',\n",
    "                           client_secret='1bf51eeb645f49f4a8e5b5dd2b086585',\n",
    "                           redirect_uri='http://localhost:8888/notebooks/')\n",
    "    sp = spotipy.Spotify(auth=token)\n",
    "    \n",
    "    playlists = sp.user_playlists(\"Spotify\")\n",
    "    playlistsIDs = []\n",
    "    while playlists:\n",
    "        for i, playlist in enumerate(playlists['items']):\n",
    "            playlistsIDs.append(playlist[\"uri\"])\n",
    "        if playlists['next']:\n",
    "            playlists = sp.next(playlists)\n",
    "        else:\n",
    "            playlists = None\n",
    "    \n",
    "    useridpairs = []\n",
    "    for pid in playlistsIDs:\n",
    "        l = pid.split(\":\")\n",
    "        useridpairs.append((l[2],l[4]))\n",
    "    \n",
    "    features = []\n",
    "    failedpairs = []\n",
    "    for playlistsID in useridpairs:\n",
    "        try:\n",
    "            print(playlistsID)\n",
    "            pl = sp.user_playlist(playlistsID[0], playlistsID[1])\n",
    "            pltracks = pl[\"tracks\"][\"items\"]\n",
    "            durations = []\n",
    "            explicits = []\n",
    "            populars = []\n",
    "            artistsnum = []\n",
    "            acousticness = []\n",
    "            danceability = []\n",
    "            energy = []\n",
    "            instrumentalness = []\n",
    "            liveness = []\n",
    "            loudness = []\n",
    "            mode =[]\n",
    "            speechiness=[]\n",
    "            tempo=[]\n",
    "            valence=[]\n",
    "            genres = []\n",
    "            artistfollowers = []\n",
    "            artistpopularity = []\n",
    "            for track in pltracks:\n",
    "\n",
    "                track = track[\"track\"]\n",
    "                durations.append(track[\"duration_ms\"])\n",
    "                explicits.append(track[\"explicit\"])\n",
    "                populars.append(track[\"popularity\"])\n",
    "                artistsnum.append(len(track[\"artists\"]))\n",
    "                audiofeats = sp.audio_features(track[\"uri\"])[0]\n",
    "                if audiofeats != None:\n",
    "                    acousticness.append(audiofeats[\"acousticness\"])\n",
    "                    danceability.append(audiofeats[\"danceability\"])\n",
    "                    energy.append(audiofeats[\"energy\"])\n",
    "                    instrumentalness.append(audiofeats[\"instrumentalness\"])\n",
    "                    liveness.append(audiofeats[\"liveness\"])\n",
    "                    loudness.append(audiofeats[\"loudness\"])\n",
    "                    mode.append(audiofeats[\"mode\"])\n",
    "                    speechiness.append(audiofeats[\"speechiness\"])\n",
    "                    tempo.append(audiofeats[\"tempo\"])\n",
    "                    valence.append(audiofeats[\"valence\"])\n",
    "                arts = sp.artist(track[\"artists\"][0][\"uri\"])\n",
    "                if arts[\"genres\"] != None:\n",
    "                    genres = genres + list(arts[\"genres\"])\n",
    "                else:\n",
    "                    genres = genres + [None]\n",
    "                artistfollowers.append(arts[\"followers\"][\"total\"])\n",
    "                artistpopularity.append(arts[\"popularity\"])\n",
    "\n",
    "\n",
    "            genrecount = Counter(genres)\n",
    "            mc_genre = genrecount.most_common(3)\n",
    "            g1 = mc_genre[0][0]\n",
    "            g2 = mc_genre[1][0]\n",
    "            g3 = mc_genre[2][0]\n",
    "            features.append([playlistsID[1],\n",
    "                             pl[\"name\"],\n",
    "                             pl[\"followers\"][\"total\"],\n",
    "                             pl[\"collaborative\"],\n",
    "                            len(pltracks),\n",
    "                            np.mean(durations),\n",
    "                            np.std(durations),\n",
    "                            sum(explicits),\n",
    "                            np.mean(populars),\n",
    "                            np.std(populars),\n",
    "                            np.max(populars),\n",
    "                            np.mean(artistsnum),\n",
    "                            np.std(artistsnum),\n",
    "                           playlistsID[0],\n",
    "\n",
    "                             np.mean(acousticness),\n",
    "                            np.std(acousticness),\n",
    "                             np.mean(danceability),\n",
    "                            np.std(danceability),\n",
    "                             np.mean(energy),\n",
    "                            np.std(energy),\n",
    "                             np.mean(instrumentalness),\n",
    "                            np.std(instrumentalness),\n",
    "                             np.mean(liveness),\n",
    "                            np.std(liveness),\n",
    "                             np.mean(loudness),\n",
    "                            np.std(loudness),\n",
    "                             np.mean(mode),\n",
    "                            np.std(mode),\n",
    "                             np.mean(speechiness),\n",
    "                            np.std(speechiness),\n",
    "                             np.mean(tempo),\n",
    "                            np.std(tempo),\n",
    "                             np.mean(valence),\n",
    "                            np.std(valence),\n",
    "\n",
    "                             np.mean(artistfollowers),\n",
    "                            np.std(artistfollowers),\n",
    "                            np.mean(artistpopularity),\n",
    "                            np.std(artistpopularity),\n",
    "                             g1,\n",
    "                             g2,\n",
    "                             g3\n",
    "                            ])\n",
    "\n",
    "        except spotipy.client.SpotifyException as x:\n",
    "            print(playlistsID)\n",
    "            failedpairs.append(playlistsID)\n",
    "            print(x)\n",
    "            if x.http_status == 401:\n",
    "                token = util.prompt_for_user_token(\"spects4@gmail.com\",   #username,\n",
    "                               \"playlist-read-private\",#scope,\n",
    "                               client_id='b9e26d8ba491478fb328b53dc7390b0d',\n",
    "                               client_secret='1bf51eeb645f49f4a8e5b5dd2b086585',\n",
    "                               redirect_uri='http://localhost:8888/notebooks/')\n",
    "                sp = spotipy.Spotify(auth=token)\n",
    "        except Exception as x:\n",
    "            failedpairs.append(playlistsID)\n",
    "            print(x)\n",
    "            print(playlistsID)\n",
    "        \n",
    "    df = pd.DataFrame(features, columns = [\"id\",\n",
    "                                      \"name\",\n",
    "                                      \"followers\",\n",
    "                                      \"collab\",\n",
    "                                      \"num_tracks\",\n",
    "                                      \"mean_time\",\n",
    "                                      \"std_time\",\n",
    "                                     \"total_explicit\",\n",
    "                                     \"mean_popularity\",\n",
    "                                     \"std_popularity\",\n",
    "                                     \"max_popularity\",\n",
    "                                     \"mean_artists_count\",\n",
    "                                     \"std_artists_count\",\n",
    "                                     \"user\",\n",
    "                                     \"mean_acousticness\",\n",
    "                                    \"std_acousticness\",\n",
    "                                    \"mean_danceability\",\n",
    "                                    \"std_danceability\",\n",
    "                                    \"mean_energy\",\n",
    "                                    \"std_energy\",\n",
    "                                    \"mean_instrumentalness\",\n",
    "                                    \"std_instrumentalness\",\n",
    "                                           \"mean_liveness\",\n",
    "                                    \"std_liveness\",\n",
    "                                           \"mean_loudness\",\n",
    "                                    \"std_loudness\",\n",
    "                                           \"mean_mode\",\n",
    "                                    \"std_mode\",\n",
    "                                           \"mean_speechiness\",\n",
    "                                    \"std_speechiness\",\n",
    "                                           \"mean_tempo\",\n",
    "                                    \"std_tempo\",\n",
    "                                           \"mean_valence\",\n",
    "                                    \"std_valence\",\n",
    "                                           \"mean_artistfollowers\",\n",
    "                                    \"std_artistfollowers\",\n",
    "                                           \"mean_artistpopularity\",\n",
    "                                    \"std_artistpopularity\",\n",
    "                                          \"genre1\",\n",
    "                                           \"genre2\",\n",
    "                                           \"genre3\"\n",
    "                                        ])"
   ]
  }
 ],
 "metadata": {
  "kernelspec": {
   "display_name": "Python 3",
   "language": "python",
   "name": "python3"
  },
  "language_info": {
   "codemirror_mode": {
    "name": "ipython",
    "version": 3
   },
   "file_extension": ".py",
   "mimetype": "text/x-python",
   "name": "python",
   "nbconvert_exporter": "python",
   "pygments_lexer": "ipython3",
   "version": "3.6.1"
  }
 },
 "nbformat": 4,
 "nbformat_minor": 2
}
